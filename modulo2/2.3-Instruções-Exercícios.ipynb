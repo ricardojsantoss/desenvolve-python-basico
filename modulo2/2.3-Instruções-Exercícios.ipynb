{
 "cells": [
  {
   "cell_type": "markdown",
   "metadata": {
    "id": "1pCTdOHonv5f"
   },
   "source": [
    "# Módulo 2\n",
    "\n",
    "## 2.3 Instruções e Expressões\n",
    "\n",
    "### Q1\n",
    "\n",
    "Faça um programa que armazene o valor de 20 reais de salário por hora de um trabalhador, e o número de 40 horas trabalhadas na semana. Com essas informações, calcule e imprima:\n",
    "- Salário semanal bruto\n",
    "- Valor descontado por semana INSS (10% do bruto)\n",
    "- Valor descontado por semana pelo sindicato (5% do bruto)\n",
    "- Salário semanal líquido (Bruto - Descontos)"
   ]
  },
  {
   "cell_type": "code",
   "execution_count": 1,
   "metadata": {
    "id": "hVbX0I97nj6M"
   },
   "outputs": [
    {
     "name": "stdout",
     "output_type": "stream",
     "text": [
      "Salário bruto semanal: R$ 800.0\n",
      "Desconto INSS (10%): R$ 80.0\n",
      "Desconto sindicato (5%): R$ 40.0\n",
      "Salário líquido semanal: R$ 680.0\n"
     ]
    }
   ],
   "source": [
    "salario_por_hora = 20.0\n",
    "horas_trabalhadas = 40\n",
    "salario_bruto = salario_por_hora * horas_trabalhadas\n",
    "desconto_inss = salario_bruto * 0.10\n",
    "desconto_sindicato = salario_bruto * 0.05\n",
    "salario_liquido = salario_bruto - desconto_inss - desconto_sindicato\n",
    "print(\"Salário bruto semanal: R$\", salario_bruto)\n",
    "print(\"Desconto INSS (10%): R$\", desconto_inss)\n",
    "print(\"Desconto sindicato (5%): R$\", desconto_sindicato)\n",
    "print(\"Salário líquido semanal: R$\", salario_liquido)"
   ]
  },
  {
   "cell_type": "markdown",
   "metadata": {
    "id": "pIxKX9J2oGZ1"
   },
   "source": [
    "### Q2\n",
    "\n",
    "Altere o programa anterior para a partir dos valores de horas trabalhadas por semana e salário por hora, calcular **em somente duas instruções**:\n",
    "- Salário semanal bruto\n",
    "- Salário semanal líquido com todos os descontos. Para a segunda instrução, realize todos os cálculos aritméticos em uma expressão composta.\n"
   ]
  },
  {
   "cell_type": "code",
   "execution_count": 2,
   "metadata": {
    "id": "pAHw9Xf9oGoi"
   },
   "outputs": [
    {
     "name": "stdout",
     "output_type": "stream",
     "text": [
      "Salário bruto semanal: R$ 800.0\n",
      "Salário líquido semanal (com descontos INSS e sindicato): R$ 680.0\n"
     ]
    }
   ],
   "source": [
    "salario_por_hora = 20.0\n",
    "horas_trabalhadas = 40\n",
    "salario_bruto = salario_por_hora * horas_trabalhadas\n",
    "salario_liquido = (salario_por_hora * horas_trabalhadas) * (1 - 0.10 - 0.05)\n",
    "print(\"Salário bruto semanal: R$\", salario_bruto)\n",
    "print(\"Salário líquido semanal (com descontos INSS e sindicato): R$\", salario_liquido)"
   ]
  },
  {
   "cell_type": "markdown",
   "metadata": {
    "id": "m8tlHRuWpBOB"
   },
   "source": [
    "### Q3\n",
    "\n",
    "Você está desenvolvendo um software de conversão de moeda e precisa calcular o valor equivalente em yuan chinês a partir de uma quantia em real. A taxa de câmbio é de 0.69 BRL (real) para 1 CNY (yuan). Escreva um programa que define em uma variável uma quantia em reais (BRL) e calcula o valor equivalente em yuan (CNY). Imprima o resultado."
   ]
  },
  {
   "cell_type": "code",
   "execution_count": 6,
   "metadata": {
    "id": "2bPw7uF6oeL9"
   },
   "outputs": [
    {
     "name": "stdout",
     "output_type": "stream",
     "text": [
      "R$ 138 equivalem a 200.0 yuans chineses\n"
     ]
    }
   ],
   "source": [
    "tc = 0.69  # taxa de câmbio\n",
    "brl = 138  # quantia em reais\n",
    "cny = brl / tc\n",
    "print(\"R$\", brl, \"equivalem a\", round(cny, 2), \"yuans chineses\")"
   ]
  },
  {
   "cell_type": "markdown",
   "metadata": {
    "id": "-Na3ltDCp74A"
   },
   "source": [
    "### Q4\n",
    "\n",
    "Você é um treinador de corrida e deseja calcular a velocidade média que um atleta precisa manter para completar a Maratona Internacional de São Silvestre, que tem uma distância total de 42.195 km. A fórmula para calcular a velocidade média ($v\\_media$) é dada por $v\\_media = \\frac{distancia}{tempo}$ . Escreva um programa em Python para calcular a velocidade média necessária para completar a maratona em 3 horas.\n",
    "\n",
    "**Calcule e imprima o resultado em metros/segundo**, ou seja, converta a distância de quilômetros para metros ($metro = \\frac{km}{1000}$) e a velocidade de horas para segundos $(segundo = \\frac{hora}{3600})$."
   ]
  },
  {
   "cell_type": "code",
   "execution_count": 7,
   "metadata": {
    "id": "Bn6l8kcSrE4L"
   },
   "outputs": [
    {
     "name": "stdout",
     "output_type": "stream",
     "text": [
      "Velocidade média necessária: 3.91 m/s\n"
     ]
    }
   ],
   "source": [
    "d = 42195       # distância em metros\n",
    "t = 3 * 3600    # tempo em segundos (3 horas)\n",
    "\n",
    "v = d / t       # Cálculo da velocidade média\n",
    "\n",
    "print(\"Velocidade média necessária:\", round(v, 2), \"m/s\")\n"
   ]
  },
  {
   "cell_type": "code",
   "execution_count": null,
   "metadata": {},
   "outputs": [],
   "source": []
  }
 ],
 "metadata": {
  "colab": {
   "provenance": []
  },
  "kernelspec": {
   "display_name": "Python 3 (ipykernel)",
   "language": "python",
   "name": "python3"
  },
  "language_info": {
   "codemirror_mode": {
    "name": "ipython",
    "version": 3
   },
   "file_extension": ".py",
   "mimetype": "text/x-python",
   "name": "python",
   "nbconvert_exporter": "python",
   "pygments_lexer": "ipython3",
   "version": "3.13.5"
  }
 },
 "nbformat": 4,
 "nbformat_minor": 4
}
